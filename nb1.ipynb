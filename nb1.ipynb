{
 "cells": [
  {
   "cell_type": "code",
   "execution_count": 2,
   "metadata": {
    "collapsed": true
   },
   "outputs": [],
   "source": [
    "from IPython.core.display import Image, display\n",
    "import numpy as np\n",
    "import pandas as pd\n",
    "import os"
   ]
  },
  {
   "cell_type": "code",
   "execution_count": 11,
   "metadata": {
    "collapsed": false
   },
   "outputs": [
    {
     "data": {
      "text/plain": [
       "9633    49858\n6051    49651\n6599    23149\n9779    18236\n2061    13138\n5554    10993\nName: landmark_id, dtype: int64"
      ]
     },
     "execution_count": 11,
     "metadata": {},
     "output_type": "execute_result"
    }
   ],
   "source": [
    "n = 6\n",
    "data = pd.read_csv(\"train.csv\")\n",
    "data = data.mask(data.eq('None')).dropna()\n",
    "sr = data['landmark_id'].value_counts().nlargest(n)\n",
    "sr"
   ]
  },
  {
   "cell_type": "code",
   "execution_count": 17,
   "metadata": {},
   "outputs": [],
   "source": [
    "lm_urls = []\n",
    "for lm_id, count in sr.iteritems():\n",
    "    lm_urls.append((data[data.landmark_id == lm_id]['url'].values, lm_id, count)) "
   ]
  },
  {
   "cell_type": "code",
   "execution_count": 31,
   "metadata": {
    "collapsed": true
   },
   "outputs": [
    {
     "name": "stdout",
     "output_type": "stream",
     "text": [
      "landmark ID:  9633\nnumber of images 49858\n"
     ]
    },
    {
     "data": {
      "text/html": [
       "<img src=\"https://lh5.googleusercontent.com/-7AoJnw2esWw/S7ubehzXuuI/AAAAAAAAAXw/NKnaXkpx1wU/s1600/\" width=\"250\" height=\"250\"/>"
      ],
      "text/plain": [
       "<img src=\"https://lh5.googleusercontent.com/-7AoJnw2esWw/S7ubehzXuuI/AAAAAAAAAXw/NKnaXkpx1wU/s1600/\" width=\"250\" height=\"250\"/>"
      ]
     },
     "execution_count": 0,
     "metadata": {},
     "output_type": "execute_result"
    },
    {
     "data": {
      "text/html": [
       "<img src=\"https://lh6.googleusercontent.com/-xAmqD_PLM28/RrAE2_jmP0I/AAAAAAAACCU/Vq7NPptikCU/s1600/\" width=\"250\" height=\"250\"/>"
      ],
      "text/plain": [
       "<img src=\"https://lh6.googleusercontent.com/-xAmqD_PLM28/RrAE2_jmP0I/AAAAAAAACCU/Vq7NPptikCU/s1600/\" width=\"250\" height=\"250\"/>"
      ]
     },
     "execution_count": 0,
     "metadata": {},
     "output_type": "execute_result"
    },
    {
     "data": {
      "text/html": [
       "<img src=\"https://lh6.googleusercontent.com/-QCDV0ENYxPI/SKfNbKY2CtI/AAAAAAAABxA/UIj8746bUTw/s0-d/\" width=\"250\" height=\"250\"/>"
      ],
      "text/plain": [
       "<img src=\"https://lh6.googleusercontent.com/-QCDV0ENYxPI/SKfNbKY2CtI/AAAAAAAABxA/UIj8746bUTw/s0-d/\" width=\"250\" height=\"250\"/>"
      ]
     },
     "execution_count": 0,
     "metadata": {},
     "output_type": "execute_result"
    },
    {
     "data": {
      "text/html": [
       "<img src=\"https://lh3.googleusercontent.com/-oYFvHLf8HEQ/TWgcpFrOyiI/AAAAAAAAD0k/o5S4beoVNn0/rj/\" width=\"250\" height=\"250\"/>"
      ],
      "text/plain": [
       "<img src=\"https://lh3.googleusercontent.com/-oYFvHLf8HEQ/TWgcpFrOyiI/AAAAAAAAD0k/o5S4beoVNn0/rj/\" width=\"250\" height=\"250\"/>"
      ]
     },
     "execution_count": 0,
     "metadata": {},
     "output_type": "execute_result"
    },
    {
     "data": {
      "text/html": [
       "<img src=\"https://lh5.googleusercontent.com/-Q15GMLfJpdc/TlJ6IQYpJaI/AAAAAAAAGxM/jYbRZpAFaKA/s1600/\" width=\"250\" height=\"250\"/>"
      ],
      "text/plain": [
       "<img src=\"https://lh5.googleusercontent.com/-Q15GMLfJpdc/TlJ6IQYpJaI/AAAAAAAAGxM/jYbRZpAFaKA/s1600/\" width=\"250\" height=\"250\"/>"
      ]
     },
     "execution_count": 0,
     "metadata": {},
     "output_type": "execute_result"
    },
    {
     "data": {
      "text/html": [
       "<img src=\"http://lh3.ggpht.com/-zKaU4XvjeFE/R5XRfHXJxRI/AAAAAAAAECQ/fPg2QeEKgJA/s1600/\" width=\"250\" height=\"250\"/>"
      ],
      "text/plain": [
       "<img src=\"http://lh3.ggpht.com/-zKaU4XvjeFE/R5XRfHXJxRI/AAAAAAAAECQ/fPg2QeEKgJA/s1600/\" width=\"250\" height=\"250\"/>"
      ]
     },
     "execution_count": 0,
     "metadata": {},
     "output_type": "execute_result"
    },
    {
     "data": {
      "text/html": [
       "<img src=\"https://lh4.googleusercontent.com/-xDQcOL79zRA/RfOxtZ7rMvI/AAAAAAAAAIk/AW7_H1k4AJ4/s1600/\" width=\"250\" height=\"250\"/>"
      ],
      "text/plain": [
       "<img src=\"https://lh4.googleusercontent.com/-xDQcOL79zRA/RfOxtZ7rMvI/AAAAAAAAAIk/AW7_H1k4AJ4/s1600/\" width=\"250\" height=\"250\"/>"
      ]
     },
     "execution_count": 0,
     "metadata": {},
     "output_type": "execute_result"
    },
    {
     "data": {
      "text/html": [
       "<img src=\"http://mw2.google.com/mw-panoramio/photos/medium/81377771.jpg\" width=\"250\" height=\"250\"/>"
      ],
      "text/plain": [
       "<img src=\"http://mw2.google.com/mw-panoramio/photos/medium/81377771.jpg\" width=\"250\" height=\"250\"/>"
      ]
     },
     "execution_count": 0,
     "metadata": {},
     "output_type": "execute_result"
    },
    {
     "data": {
      "text/html": [
       "<img src=\"https://lh6.googleusercontent.com/-ZqiOKkKOllk/Sc0_VSbDaEI/AAAAAAAAAR8/kk15skmgHUw/s1600/\" width=\"250\" height=\"250\"/>"
      ],
      "text/plain": [
       "<img src=\"https://lh6.googleusercontent.com/-ZqiOKkKOllk/Sc0_VSbDaEI/AAAAAAAAAR8/kk15skmgHUw/s1600/\" width=\"250\" height=\"250\"/>"
      ]
     },
     "execution_count": 0,
     "metadata": {},
     "output_type": "execute_result"
    },
    {
     "data": {
      "text/html": [
       "<img src=\"https://lh6.googleusercontent.com/-6yVrVaWwh14/TGhNUwwuPYI/AAAAAAAAEIw/RbT98dNc-5E/s1600/\" width=\"250\" height=\"250\"/>"
      ],
      "text/plain": [
       "<img src=\"https://lh6.googleusercontent.com/-6yVrVaWwh14/TGhNUwwuPYI/AAAAAAAAEIw/RbT98dNc-5E/s1600/\" width=\"250\" height=\"250\"/>"
      ]
     },
     "execution_count": 0,
     "metadata": {},
     "output_type": "execute_result"
    }
   ],
   "source": [
    "urls, lm_id, count = lm_urls[0] \n",
    "\n",
    "print(\"landmark ID: \", lm_id)\n",
    "print(\"number of images\", count)\n",
    "\n",
    "for img in urls[:10]:\n",
    "    display(Image(url= img, width=250, height=250))"
   ]
  },
  {
   "cell_type": "code",
   "execution_count": 32,
   "metadata": {},
   "outputs": [
    {
     "name": "stdout",
     "output_type": "stream",
     "text": [
      "landmark ID:  6051\nnumber of images 49651\n"
     ]
    },
    {
     "data": {
      "text/html": [
       "<img src=\"http://lh6.ggpht.com/-MbCfKSsUTLg/RjyNT-6K2OI/AAAAAAAAArk/bCJ_ohFb67M/s1600/\" width=\"250\" height=\"250\"/>"
      ],
      "text/plain": [
       "<img src=\"http://lh6.ggpht.com/-MbCfKSsUTLg/RjyNT-6K2OI/AAAAAAAAArk/bCJ_ohFb67M/s1600/\" width=\"250\" height=\"250\"/>"
      ]
     },
     "execution_count": 0,
     "metadata": {},
     "output_type": "execute_result"
    },
    {
     "data": {
      "text/html": [
       "<img src=\"http://lh3.ggpht.com/-IU1Valypm3w/SOaQ-Y_rZ2I/AAAAAAAAAKM/1yhFFFEtOns/s1600/\" width=\"250\" height=\"250\"/>"
      ],
      "text/plain": [
       "<img src=\"http://lh3.ggpht.com/-IU1Valypm3w/SOaQ-Y_rZ2I/AAAAAAAAAKM/1yhFFFEtOns/s1600/\" width=\"250\" height=\"250\"/>"
      ]
     },
     "execution_count": 0,
     "metadata": {},
     "output_type": "execute_result"
    },
    {
     "data": {
      "text/html": [
       "<img src=\"https://lh6.googleusercontent.com/-v4yKkJvMfEs/TtjusdcsKmI/AAAAAAAAPfo/z3jKfLsmEoA/s1600/\" width=\"250\" height=\"250\"/>"
      ],
      "text/plain": [
       "<img src=\"https://lh6.googleusercontent.com/-v4yKkJvMfEs/TtjusdcsKmI/AAAAAAAAPfo/z3jKfLsmEoA/s1600/\" width=\"250\" height=\"250\"/>"
      ]
     },
     "execution_count": 0,
     "metadata": {},
     "output_type": "execute_result"
    },
    {
     "data": {
      "text/html": [
       "<img src=\"http://lh6.ggpht.com/-IvKcAX9IeQ8/Sb5f9Ur6FaI/AAAAAAAAE4w/pazI3srCO9w/rj/\" width=\"250\" height=\"250\"/>"
      ],
      "text/plain": [
       "<img src=\"http://lh6.ggpht.com/-IvKcAX9IeQ8/Sb5f9Ur6FaI/AAAAAAAAE4w/pazI3srCO9w/rj/\" width=\"250\" height=\"250\"/>"
      ]
     },
     "execution_count": 0,
     "metadata": {},
     "output_type": "execute_result"
    },
    {
     "data": {
      "text/html": [
       "<img src=\"http://lh6.ggpht.com/-r1LjRS9oOvM/S5AP9aYUj7I/AAAAAAAACW4/9-zRL-rwY40/s1600/\" width=\"250\" height=\"250\"/>"
      ],
      "text/plain": [
       "<img src=\"http://lh6.ggpht.com/-r1LjRS9oOvM/S5AP9aYUj7I/AAAAAAAACW4/9-zRL-rwY40/s1600/\" width=\"250\" height=\"250\"/>"
      ]
     },
     "execution_count": 0,
     "metadata": {},
     "output_type": "execute_result"
    },
    {
     "data": {
      "text/html": [
       "<img src=\"https://lh6.googleusercontent.com/-KmY65KLxSlk/TcUSPEMs44I/AAAAAAAAAwY/pjYvePK5Zlk/s1600/\" width=\"250\" height=\"250\"/>"
      ],
      "text/plain": [
       "<img src=\"https://lh6.googleusercontent.com/-KmY65KLxSlk/TcUSPEMs44I/AAAAAAAAAwY/pjYvePK5Zlk/s1600/\" width=\"250\" height=\"250\"/>"
      ]
     },
     "execution_count": 0,
     "metadata": {},
     "output_type": "execute_result"
    },
    {
     "data": {
      "text/html": [
       "<img src=\"https://lh6.googleusercontent.com/-2M8kBxuyWMU/SLbLfW-y3vI/AAAAAAAAE7Q/fsdcJLPXsiY/rj/\" width=\"250\" height=\"250\"/>"
      ],
      "text/plain": [
       "<img src=\"https://lh6.googleusercontent.com/-2M8kBxuyWMU/SLbLfW-y3vI/AAAAAAAAE7Q/fsdcJLPXsiY/rj/\" width=\"250\" height=\"250\"/>"
      ]
     },
     "execution_count": 0,
     "metadata": {},
     "output_type": "execute_result"
    },
    {
     "data": {
      "text/html": [
       "<img src=\"https://lh6.googleusercontent.com/-iHhBb06T1Xw/STKyuVBqzSI/AAAAAAAACUM/e-gUHXJ5z-s/s1600/\" width=\"250\" height=\"250\"/>"
      ],
      "text/plain": [
       "<img src=\"https://lh6.googleusercontent.com/-iHhBb06T1Xw/STKyuVBqzSI/AAAAAAAACUM/e-gUHXJ5z-s/s1600/\" width=\"250\" height=\"250\"/>"
      ]
     },
     "execution_count": 0,
     "metadata": {},
     "output_type": "execute_result"
    },
    {
     "data": {
      "text/html": [
       "<img src=\"http://lh4.ggpht.com/-8zxgTTvir48/SIWLnI-ur7I/AAAAAAAAA14/8PG0r3N8GB4/s1600/\" width=\"250\" height=\"250\"/>"
      ],
      "text/plain": [
       "<img src=\"http://lh4.ggpht.com/-8zxgTTvir48/SIWLnI-ur7I/AAAAAAAAA14/8PG0r3N8GB4/s1600/\" width=\"250\" height=\"250\"/>"
      ]
     },
     "execution_count": 0,
     "metadata": {},
     "output_type": "execute_result"
    }
   ],
   "source": [
    "urls, lm_id, count = lm_urls[1] \n",
    "\n",
    "print(\"landmark ID: \", lm_id)\n",
    "print(\"number of images\", count)\n",
    "\n",
    "for img in urls[:10]:\n",
    "    display(Image(url= img, width=250, height=250))"
   ]
  },
  {
   "cell_type": "code",
   "execution_count": 33,
   "metadata": {},
   "outputs": [
    {
     "name": "stdout",
     "output_type": "stream",
     "text": [
      "landmark ID:  6599\nnumber of images 23149\n"
     ]
    },
    {
     "data": {
      "text/html": [
       "<img src=\"https://lh3.googleusercontent.com/-eHd7qIJGI8Q/ScKDCfYviBI/AAAAAAAABMo/LdN8SeQKQzo/s1600/\" width=\"250\" height=\"250\"/>"
      ],
      "text/plain": [
       "<img src=\"https://lh3.googleusercontent.com/-eHd7qIJGI8Q/ScKDCfYviBI/AAAAAAAABMo/LdN8SeQKQzo/s1600/\" width=\"250\" height=\"250\"/>"
      ]
     },
     "execution_count": 0,
     "metadata": {},
     "output_type": "execute_result"
    },
    {
     "data": {
      "text/html": [
       "<img src=\"https://lh3.googleusercontent.com/-L3kzpgPaAeM/SsZ-XWiT83I/AAAAAAAAAeQ/5LSKrPjAw5A/s1600/\" width=\"250\" height=\"250\"/>"
      ],
      "text/plain": [
       "<img src=\"https://lh3.googleusercontent.com/-L3kzpgPaAeM/SsZ-XWiT83I/AAAAAAAAAeQ/5LSKrPjAw5A/s1600/\" width=\"250\" height=\"250\"/>"
      ]
     },
     "execution_count": 0,
     "metadata": {},
     "output_type": "execute_result"
    },
    {
     "data": {
      "text/html": [
       "<img src=\"https://lh4.googleusercontent.com/-EUIA_8bboTc/R1mWurFgDhI/AAAAAAAAA9s/T0R_Mu2lQpc/s1600/\" width=\"250\" height=\"250\"/>"
      ],
      "text/plain": [
       "<img src=\"https://lh4.googleusercontent.com/-EUIA_8bboTc/R1mWurFgDhI/AAAAAAAAA9s/T0R_Mu2lQpc/s1600/\" width=\"250\" height=\"250\"/>"
      ]
     },
     "execution_count": 0,
     "metadata": {},
     "output_type": "execute_result"
    },
    {
     "data": {
      "text/html": [
       "<img src=\"http://lh5.ggpht.com/-WTcb5nkz43s/TpCzhCD8xXI/AAAAAAAAEdk/Ug3CbrSqzOk/s1600/\" width=\"250\" height=\"250\"/>"
      ],
      "text/plain": [
       "<img src=\"http://lh5.ggpht.com/-WTcb5nkz43s/TpCzhCD8xXI/AAAAAAAAEdk/Ug3CbrSqzOk/s1600/\" width=\"250\" height=\"250\"/>"
      ]
     },
     "execution_count": 0,
     "metadata": {},
     "output_type": "execute_result"
    },
    {
     "data": {
      "text/html": [
       "<img src=\"http://lh4.ggpht.com/-C5IN3KjL20g/UFip8bDClRI/AAAAAAAAAyk/Tfcrcx6B6tQ/s1600/\" width=\"250\" height=\"250\"/>"
      ],
      "text/plain": [
       "<img src=\"http://lh4.ggpht.com/-C5IN3KjL20g/UFip8bDClRI/AAAAAAAAAyk/Tfcrcx6B6tQ/s1600/\" width=\"250\" height=\"250\"/>"
      ]
     },
     "execution_count": 0,
     "metadata": {},
     "output_type": "execute_result"
    },
    {
     "data": {
      "text/html": [
       "<img src=\"https://lh4.googleusercontent.com/-yC6tyZDVb2k/RwBfJdWSmzI/AAAAAAAAAgI/DVMgd-BMzww/rj/\" width=\"250\" height=\"250\"/>"
      ],
      "text/plain": [
       "<img src=\"https://lh4.googleusercontent.com/-yC6tyZDVb2k/RwBfJdWSmzI/AAAAAAAAAgI/DVMgd-BMzww/rj/\" width=\"250\" height=\"250\"/>"
      ]
     },
     "execution_count": 0,
     "metadata": {},
     "output_type": "execute_result"
    },
    {
     "data": {
      "text/html": [
       "<img src=\"https://lh5.googleusercontent.com/-62cO_S_d65E/TeVEns7F0DI/AAAAAAAAA0g/0nKy8fwy96s/s1600/\" width=\"250\" height=\"250\"/>"
      ],
      "text/plain": [
       "<img src=\"https://lh5.googleusercontent.com/-62cO_S_d65E/TeVEns7F0DI/AAAAAAAAA0g/0nKy8fwy96s/s1600/\" width=\"250\" height=\"250\"/>"
      ]
     },
     "execution_count": 0,
     "metadata": {},
     "output_type": "execute_result"
    },
    {
     "data": {
      "text/html": [
       "<img src=\"https://lh6.googleusercontent.com/-vLCntzxqyJU/Rz15LvgewVI/AAAAAAAAAFg/-zn6EIGeoO0/s1600/\" width=\"250\" height=\"250\"/>"
      ],
      "text/plain": [
       "<img src=\"https://lh6.googleusercontent.com/-vLCntzxqyJU/Rz15LvgewVI/AAAAAAAAAFg/-zn6EIGeoO0/s1600/\" width=\"250\" height=\"250\"/>"
      ]
     },
     "execution_count": 0,
     "metadata": {},
     "output_type": "execute_result"
    },
    {
     "data": {
      "text/html": [
       "<img src=\"http://lh5.ggpht.com/-W_VH9Oeg31w/TRB9o1NV6xI/AAAAAAAADp4/oZ9ws5dQltQ/s128/\" width=\"250\" height=\"250\"/>"
      ],
      "text/plain": [
       "<img src=\"http://lh5.ggpht.com/-W_VH9Oeg31w/TRB9o1NV6xI/AAAAAAAADp4/oZ9ws5dQltQ/s128/\" width=\"250\" height=\"250\"/>"
      ]
     },
     "execution_count": 0,
     "metadata": {},
     "output_type": "execute_result"
    },
    {
     "data": {
      "text/html": [
       "<img src=\"https://lh4.googleusercontent.com/-F3GCQ1YHnPQ/ToAH7pm9aHI/AAAAAAAAD9w/ZmmxSBAnpDI/s1600/\" width=\"250\" height=\"250\"/>"
      ],
      "text/plain": [
       "<img src=\"https://lh4.googleusercontent.com/-F3GCQ1YHnPQ/ToAH7pm9aHI/AAAAAAAAD9w/ZmmxSBAnpDI/s1600/\" width=\"250\" height=\"250\"/>"
      ]
     },
     "execution_count": 0,
     "metadata": {},
     "output_type": "execute_result"
    }
   ],
   "source": [
    "urls, lm_id, count = lm_urls[2] \n",
    "\n",
    "print(\"landmark ID: \", lm_id)\n",
    "print(\"number of images\", count)\n",
    "\n",
    "for img in urls[:10]:\n",
    "    display(Image(url= img, width=250, height=250))"
   ]
  },
  {
   "cell_type": "code",
   "execution_count": 34,
   "metadata": {},
   "outputs": [
    {
     "name": "stdout",
     "output_type": "stream",
     "text": [
      "landmark ID:  9779\nnumber of images 18236\n"
     ]
    },
    {
     "data": {
      "text/html": [
       "<img src=\"https://lh5.googleusercontent.com/-1PmqYO7TznA/TfGnXCUbXHI/AAAAAAAAP7o/_xW9W2oo9eA/s1600/\" width=\"250\" height=\"250\"/>"
      ],
      "text/plain": [
       "<img src=\"https://lh5.googleusercontent.com/-1PmqYO7TznA/TfGnXCUbXHI/AAAAAAAAP7o/_xW9W2oo9eA/s1600/\" width=\"250\" height=\"250\"/>"
      ]
     },
     "execution_count": 0,
     "metadata": {},
     "output_type": "execute_result"
    },
    {
     "data": {
      "text/html": [
       "<img src=\"http://lh6.ggpht.com/-ZLTnb6eJwEA/SQX5jIf0HGI/AAAAAAAAAwE/ztTiA63sWIc/s1600/\" width=\"250\" height=\"250\"/>"
      ],
      "text/plain": [
       "<img src=\"http://lh6.ggpht.com/-ZLTnb6eJwEA/SQX5jIf0HGI/AAAAAAAAAwE/ztTiA63sWIc/s1600/\" width=\"250\" height=\"250\"/>"
      ]
     },
     "execution_count": 0,
     "metadata": {},
     "output_type": "execute_result"
    },
    {
     "data": {
      "text/html": [
       "<img src=\"http://lh4.ggpht.com/-VjscPN2ZZgg/TAlBB9BbkCI/AAAAAAAACLE/AuMUx_8c2QU/s1600/\" width=\"250\" height=\"250\"/>"
      ],
      "text/plain": [
       "<img src=\"http://lh4.ggpht.com/-VjscPN2ZZgg/TAlBB9BbkCI/AAAAAAAACLE/AuMUx_8c2QU/s1600/\" width=\"250\" height=\"250\"/>"
      ]
     },
     "execution_count": 0,
     "metadata": {},
     "output_type": "execute_result"
    },
    {
     "data": {
      "text/html": [
       "<img src=\"http://mw2.google.com/mw-panoramio/photos/small/77893207.jpg\" width=\"250\" height=\"250\"/>"
      ],
      "text/plain": [
       "<img src=\"http://mw2.google.com/mw-panoramio/photos/small/77893207.jpg\" width=\"250\" height=\"250\"/>"
      ]
     },
     "execution_count": 0,
     "metadata": {},
     "output_type": "execute_result"
    },
    {
     "data": {
      "text/html": [
       "<img src=\"http://lh5.ggpht.com/-UNaz6g7yrts/SBhDGzqRzII/AAAAAAAADNc/dwusldo89GE/s1600/\" width=\"250\" height=\"250\"/>"
      ],
      "text/plain": [
       "<img src=\"http://lh5.ggpht.com/-UNaz6g7yrts/SBhDGzqRzII/AAAAAAAADNc/dwusldo89GE/s1600/\" width=\"250\" height=\"250\"/>"
      ]
     },
     "execution_count": 0,
     "metadata": {},
     "output_type": "execute_result"
    },
    {
     "data": {
      "text/html": [
       "<img src=\"https://lh5.googleusercontent.com/-ASZiNH4CNXE/S1wnIqYmbtI/AAAAAAAAGZY/_oTA5eg1EbQ/s1600/\" width=\"250\" height=\"250\"/>"
      ],
      "text/plain": [
       "<img src=\"https://lh5.googleusercontent.com/-ASZiNH4CNXE/S1wnIqYmbtI/AAAAAAAAGZY/_oTA5eg1EbQ/s1600/\" width=\"250\" height=\"250\"/>"
      ]
     },
     "execution_count": 0,
     "metadata": {},
     "output_type": "execute_result"
    },
    {
     "data": {
      "text/html": [
       "<img src=\"https://lh3.googleusercontent.com/-LmlNv5k0S48/R3qcLSJDQ3I/AAAAAAAABBw/GU41vNcNI0k/s1600/\" width=\"250\" height=\"250\"/>"
      ],
      "text/plain": [
       "<img src=\"https://lh3.googleusercontent.com/-LmlNv5k0S48/R3qcLSJDQ3I/AAAAAAAABBw/GU41vNcNI0k/s1600/\" width=\"250\" height=\"250\"/>"
      ]
     },
     "execution_count": 0,
     "metadata": {},
     "output_type": "execute_result"
    },
    {
     "data": {
      "text/html": [
       "<img src=\"https://lh4.googleusercontent.com/-CZQEXieIbGk/SoZDsmxnQZI/AAAAAAAACGk/uwWtG6Qe7eM/s1600/\" width=\"250\" height=\"250\"/>"
      ],
      "text/plain": [
       "<img src=\"https://lh4.googleusercontent.com/-CZQEXieIbGk/SoZDsmxnQZI/AAAAAAAACGk/uwWtG6Qe7eM/s1600/\" width=\"250\" height=\"250\"/>"
      ]
     },
     "execution_count": 0,
     "metadata": {},
     "output_type": "execute_result"
    },
    {
     "data": {
      "text/html": [
       "<img src=\"https://lh3.googleusercontent.com/-MRU-Kh7NECI/S7E5C9UGHEI/AAAAAAAAAgo/H2Rc8qjKNfM/s1600/\" width=\"250\" height=\"250\"/>"
      ],
      "text/plain": [
       "<img src=\"https://lh3.googleusercontent.com/-MRU-Kh7NECI/S7E5C9UGHEI/AAAAAAAAAgo/H2Rc8qjKNfM/s1600/\" width=\"250\" height=\"250\"/>"
      ]
     },
     "execution_count": 0,
     "metadata": {},
     "output_type": "execute_result"
    }
   ],
   "source": [
    "urls, lm_id, count = lm_urls[3] \n",
    "\n",
    "print(\"landmark ID: \", lm_id)\n",
    "print(\"number of images\", count)\n",
    "\n",
    "for img in urls[:10]:\n",
    "    display(Image(url= img, width=250, height=250))"
   ]
  },
  {
   "cell_type": "code",
   "execution_count": 35,
   "metadata": {},
   "outputs": [
    {
     "name": "stdout",
     "output_type": "stream",
     "text": [
      "landmark ID:  2061\nnumber of images 13138\n"
     ]
    },
    {
     "data": {
      "text/html": [
       "<img src=\"https://lh6.googleusercontent.com/-R5XJicdfQ-s/RuP-hjicMxI/AAAAAAAACPs/GkhUNrnGySA/s1600/\" width=\"250\" height=\"250\"/>"
      ],
      "text/plain": [
       "<img src=\"https://lh6.googleusercontent.com/-R5XJicdfQ-s/RuP-hjicMxI/AAAAAAAACPs/GkhUNrnGySA/s1600/\" width=\"250\" height=\"250\"/>"
      ]
     },
     "execution_count": 0,
     "metadata": {},
     "output_type": "execute_result"
    },
    {
     "data": {
      "text/html": [
       "<img src=\"https://lh4.googleusercontent.com/-5AXs7QT4cYA/TPvqqUjfgjI/AAAAAAAAC7A/gkh6P0lESeQ/rj/\" width=\"250\" height=\"250\"/>"
      ],
      "text/plain": [
       "<img src=\"https://lh4.googleusercontent.com/-5AXs7QT4cYA/TPvqqUjfgjI/AAAAAAAAC7A/gkh6P0lESeQ/rj/\" width=\"250\" height=\"250\"/>"
      ]
     },
     "execution_count": 0,
     "metadata": {},
     "output_type": "execute_result"
    },
    {
     "data": {
      "text/html": [
       "<img src=\"https://lh3.googleusercontent.com/-sjO4fxMYVms/Rl3S5JDVVAI/AAAAAAAAAIM/HIv_4jS-14o/s1600/\" width=\"250\" height=\"250\"/>"
      ],
      "text/plain": [
       "<img src=\"https://lh3.googleusercontent.com/-sjO4fxMYVms/Rl3S5JDVVAI/AAAAAAAAAIM/HIv_4jS-14o/s1600/\" width=\"250\" height=\"250\"/>"
      ]
     },
     "execution_count": 0,
     "metadata": {},
     "output_type": "execute_result"
    },
    {
     "data": {
      "text/html": [
       "<img src=\"https://lh4.googleusercontent.com/-J5GoxAi4tZs/SYl6oFQiixI/AAAAAAAAFic/4o8xzFZoMlU/s1600/\" width=\"250\" height=\"250\"/>"
      ],
      "text/plain": [
       "<img src=\"https://lh4.googleusercontent.com/-J5GoxAi4tZs/SYl6oFQiixI/AAAAAAAAFic/4o8xzFZoMlU/s1600/\" width=\"250\" height=\"250\"/>"
      ]
     },
     "execution_count": 0,
     "metadata": {},
     "output_type": "execute_result"
    },
    {
     "data": {
      "text/html": [
       "<img src=\"http://lh6.ggpht.com/-q_B-rCFOTJk/SaLvuaeGDHI/AAAAAAAAAg0/eurUyYw7guc/s1600/\" width=\"250\" height=\"250\"/>"
      ],
      "text/plain": [
       "<img src=\"http://lh6.ggpht.com/-q_B-rCFOTJk/SaLvuaeGDHI/AAAAAAAAAg0/eurUyYw7guc/s1600/\" width=\"250\" height=\"250\"/>"
      ]
     },
     "execution_count": 0,
     "metadata": {},
     "output_type": "execute_result"
    },
    {
     "data": {
      "text/html": [
       "<img src=\"https://lh4.googleusercontent.com/-bFtLD5sjFRg/Sms_TObAJjI/AAAAAAAADeQ/mSvcicaVpIw/s1600/\" width=\"250\" height=\"250\"/>"
      ],
      "text/plain": [
       "<img src=\"https://lh4.googleusercontent.com/-bFtLD5sjFRg/Sms_TObAJjI/AAAAAAAADeQ/mSvcicaVpIw/s1600/\" width=\"250\" height=\"250\"/>"
      ]
     },
     "execution_count": 0,
     "metadata": {},
     "output_type": "execute_result"
    },
    {
     "data": {
      "text/html": [
       "<img src=\"https://lh5.googleusercontent.com/-opKKZIP5AGg/S-Jh-4RvTYI/AAAAAAAAAhU/jWjmilwZta4/s1600/\" width=\"250\" height=\"250\"/>"
      ],
      "text/plain": [
       "<img src=\"https://lh5.googleusercontent.com/-opKKZIP5AGg/S-Jh-4RvTYI/AAAAAAAAAhU/jWjmilwZta4/s1600/\" width=\"250\" height=\"250\"/>"
      ]
     },
     "execution_count": 0,
     "metadata": {},
     "output_type": "execute_result"
    },
    {
     "data": {
      "text/html": [
       "<img src=\"https://lh6.googleusercontent.com/-OKIxbtKPSJE/SN1kHim6aiI/AAAAAAAApTM/hZuESGitOy0/s1600/\" width=\"250\" height=\"250\"/>"
      ],
      "text/plain": [
       "<img src=\"https://lh6.googleusercontent.com/-OKIxbtKPSJE/SN1kHim6aiI/AAAAAAAApTM/hZuESGitOy0/s1600/\" width=\"250\" height=\"250\"/>"
      ]
     },
     "execution_count": 0,
     "metadata": {},
     "output_type": "execute_result"
    }
   ],
   "source": [
    "urls, lm_id, count = lm_urls[4] \n",
    "\n",
    "print(\"landmark ID: \", lm_id)\n",
    "print(\"number of images\", count)\n",
    "\n",
    "for img in urls[:10]:\n",
    "    display(Image(url= img, width=250, height=250))"
   ]
  },
  {
   "cell_type": "code",
   "execution_count": 36,
   "metadata": {},
   "outputs": [
    {
     "name": "stdout",
     "output_type": "stream",
     "text": [
      "landmark ID:  5554\nnumber of images 10993\n"
     ]
    },
    {
     "data": {
      "text/html": [
       "<img src=\"https://lh6.googleusercontent.com/-onL5-pK9nZI/SvfWv6_P-pI/AAAAAAAABPY/Le1iu-JSmgY/s1600/\" width=\"250\" height=\"250\"/>"
      ],
      "text/plain": [
       "<img src=\"https://lh6.googleusercontent.com/-onL5-pK9nZI/SvfWv6_P-pI/AAAAAAAABPY/Le1iu-JSmgY/s1600/\" width=\"250\" height=\"250\"/>"
      ]
     },
     "execution_count": 0,
     "metadata": {},
     "output_type": "execute_result"
    },
    {
     "data": {
      "text/html": [
       "<img src=\"http://lh3.ggpht.com/-3bysCvkJIBs/Tnf_HqJhFaI/AAAAAAAAbxQ/xpqzo2s6C-U/s1600/\" width=\"250\" height=\"250\"/>"
      ],
      "text/plain": [
       "<img src=\"http://lh3.ggpht.com/-3bysCvkJIBs/Tnf_HqJhFaI/AAAAAAAAbxQ/xpqzo2s6C-U/s1600/\" width=\"250\" height=\"250\"/>"
      ]
     },
     "execution_count": 0,
     "metadata": {},
     "output_type": "execute_result"
    },
    {
     "data": {
      "text/html": [
       "<img src=\"http://lh5.ggpht.com/-6Vob_tzYQSE/S5wk-YnrqbI/AAAAAAAABAs/Q9gvaaf_du0/s1600/\" width=\"250\" height=\"250\"/>"
      ],
      "text/plain": [
       "<img src=\"http://lh5.ggpht.com/-6Vob_tzYQSE/S5wk-YnrqbI/AAAAAAAABAs/Q9gvaaf_du0/s1600/\" width=\"250\" height=\"250\"/>"
      ]
     },
     "execution_count": 0,
     "metadata": {},
     "output_type": "execute_result"
    },
    {
     "data": {
      "text/html": [
       "<img src=\"https://lh5.googleusercontent.com/-tmTCAng_jT8/Sz9I4-Na9EI/AAAAAAAADHA/3PksyLozHKY/s1600/\" width=\"250\" height=\"250\"/>"
      ],
      "text/plain": [
       "<img src=\"https://lh5.googleusercontent.com/-tmTCAng_jT8/Sz9I4-Na9EI/AAAAAAAADHA/3PksyLozHKY/s1600/\" width=\"250\" height=\"250\"/>"
      ]
     },
     "execution_count": 0,
     "metadata": {},
     "output_type": "execute_result"
    },
    {
     "data": {
      "text/html": [
       "<img src=\"http://lh6.ggpht.com/-NlxYvsvae94/S8A9CbjsVTI/AAAAAAAABHo/sXTTFrO3_3Q/s1600/\" width=\"250\" height=\"250\"/>"
      ],
      "text/plain": [
       "<img src=\"http://lh6.ggpht.com/-NlxYvsvae94/S8A9CbjsVTI/AAAAAAAABHo/sXTTFrO3_3Q/s1600/\" width=\"250\" height=\"250\"/>"
      ]
     },
     "execution_count": 0,
     "metadata": {},
     "output_type": "execute_result"
    },
    {
     "data": {
      "text/html": [
       "<img src=\"http://lh3.ggpht.com/-n4zgE1u-oCs/SiCkZQddrEI/AAAAAAAAAsE/VUKCgdslYNE/s1600/\" width=\"250\" height=\"250\"/>"
      ],
      "text/plain": [
       "<img src=\"http://lh3.ggpht.com/-n4zgE1u-oCs/SiCkZQddrEI/AAAAAAAAAsE/VUKCgdslYNE/s1600/\" width=\"250\" height=\"250\"/>"
      ]
     },
     "execution_count": 0,
     "metadata": {},
     "output_type": "execute_result"
    },
    {
     "data": {
      "text/html": [
       "<img src=\"http://lh5.ggpht.com/-yzTXOigstSU/R9UMxN8nazI/AAAAAAAAA6w/itCVZkEQRjs/s1600/\" width=\"250\" height=\"250\"/>"
      ],
      "text/plain": [
       "<img src=\"http://lh5.ggpht.com/-yzTXOigstSU/R9UMxN8nazI/AAAAAAAAA6w/itCVZkEQRjs/s1600/\" width=\"250\" height=\"250\"/>"
      ]
     },
     "execution_count": 0,
     "metadata": {},
     "output_type": "execute_result"
    },
    {
     "data": {
      "text/html": [
       "<img src=\"https://lh3.googleusercontent.com/-gWrpPn33MlE/Ucgyd3hCiHI/AAAAAAAAAW4/yQ4KloWhIJE/s0-d/\" width=\"250\" height=\"250\"/>"
      ],
      "text/plain": [
       "<img src=\"https://lh3.googleusercontent.com/-gWrpPn33MlE/Ucgyd3hCiHI/AAAAAAAAAW4/yQ4KloWhIJE/s0-d/\" width=\"250\" height=\"250\"/>"
      ]
     },
     "execution_count": 0,
     "metadata": {},
     "output_type": "execute_result"
    },
    {
     "data": {
      "text/html": [
       "<img src=\"https://lh6.googleusercontent.com/-rFtwKkBsvUc/R01_4IuIyZI/AAAAAAAABq8/QilWUU7dLNY/s1600/\" width=\"250\" height=\"250\"/>"
      ],
      "text/plain": [
       "<img src=\"https://lh6.googleusercontent.com/-rFtwKkBsvUc/R01_4IuIyZI/AAAAAAAABq8/QilWUU7dLNY/s1600/\" width=\"250\" height=\"250\"/>"
      ]
     },
     "execution_count": 0,
     "metadata": {},
     "output_type": "execute_result"
    }
   ],
   "source": [
    "urls, lm_id, count = lm_urls[5] \n",
    "\n",
    "print(\"landmark ID: \", lm_id)\n",
    "print(\"number of images\", count)\n",
    "\n",
    "for img in urls[:10]:\n",
    "    display(Image(url= img, width=250, height=250))"
   ]
  },
  {
   "cell_type": "code",
   "execution_count": null,
   "metadata": {},
   "outputs": [],
   "source": []
  }
 ],
 "metadata": {
  "kernelspec": {
   "display_name": "Python 2",
   "language": "python",
   "name": "python2"
  },
  "language_info": {
   "codemirror_mode": {
    "name": "ipython",
    "version": 2
   },
   "file_extension": ".py",
   "mimetype": "text/x-python",
   "name": "python",
   "nbconvert_exporter": "python",
   "pygments_lexer": "ipython2",
   "version": "2.7.6"
  }
 },
 "nbformat": 4,
 "nbformat_minor": 0
}
