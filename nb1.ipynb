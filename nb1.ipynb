{
 "cells": [
  {
   "cell_type": "code",
   "execution_count": 2,
   "metadata": {
    "collapsed": true
   },
   "outputs": [],
   "source": [
    "from IPython.core.display import Image, display\n",
    "import numpy as np\n",
    "import pandas as pd\n",
    "import os"
   ]
  },
  {
   "cell_type": "code",
   "execution_count": 11,
   "metadata": {
    "collapsed": false
   },
   "outputs": [
    {
     "data": {
      "text/plain": [
       "9633    49858\n6051    49651\n6599    23149\n9779    18236\n2061    13138\n5554    10993\nName: landmark_id, dtype: int64"
      ]
     },
     "execution_count": 11,
     "metadata": {},
     "output_type": "execute_result"
    }
   ],
   "source": [
    "n = 6\n",
    "data = pd.read_csv(\"train.csv\")\n",
    "data = data.mask(data.eq('None')).dropna()\n",
    "sr = data['landmark_id'].value_counts().nlargest(n)\n",
    "sr"
   ]
  },
  {
   "cell_type": "code",
   "execution_count": 17,
   "metadata": {},
   "outputs": [],
   "source": [
    "lm_urls = []\n",
    "for lm_id, count in sr.iteritems():\n",
    "    lm_urls.append((data[data.landmark_id == lm_id]['url'].values, lm_id, count)) "
   ]
  },
  {
   "cell_type": "code",
   "execution_count": 25,
   "metadata": {},
   "outputs": [
    {
     "name": "stdout",
     "output_type": "stream",
     "text": [
      "landmark ID:  9633\nnumber of images 49858\n"
     ]
    },
    {
     "data": {
      "text/html": [
       "<img src=\"https://lh5.googleusercontent.com/-7AoJnw2esWw/S7ubehzXuuI/AAAAAAAAAXw/NKnaXkpx1wU/s1600/\" width=\"250\" height=\"250\"/>"
      ],
      "text/plain": [
       "<img src=\"https://lh5.googleusercontent.com/-7AoJnw2esWw/S7ubehzXuuI/AAAAAAAAAXw/NKnaXkpx1wU/s1600/\" width=\"250\" height=\"250\"/>"
      ]
     },
     "execution_count": 0,
     "metadata": {},
     "output_type": "execute_result"
    }
   ],
   "source": [
    "urls, lm_id, count = lm_urls[0] \n",
    "\n",
    "print(\"landmark ID: \", lm_id)\n",
    "print(\"number of images\", count)\n",
    "\n",
    "for img in urls[:1]:\n",
    "    display(Image(url= img, width=250, height=250))\n",
    "    "
   ]
  },
  {
   "cell_type": "code",
   "execution_count": null,
   "metadata": {},
   "outputs": [],
   "source": []
  }
 ],
 "metadata": {
  "kernelspec": {
   "display_name": "Python 2",
   "language": "python",
   "name": "python2"
  },
  "language_info": {
   "codemirror_mode": {
    "name": "ipython",
    "version": 2
   },
   "file_extension": ".py",
   "mimetype": "text/x-python",
   "name": "python",
   "nbconvert_exporter": "python",
   "pygments_lexer": "ipython2",
   "version": "2.7.6"
  }
 },
 "nbformat": 4,
 "nbformat_minor": 0
}
